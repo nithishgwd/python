{
 "cells": [
  {
   "cell_type": "markdown",
   "id": "2a69394b",
   "metadata": {},
   "source": [
    "# Dictionarie"
   ]
  },
  {
   "cell_type": "markdown",
   "id": "684e0019",
   "metadata": {},
   "source": [
    "- Unordered sequence and cant be sorted\n",
    "- key-value pair no index to grab data\n",
    "- {'key':'value'}\n",
    "- can grab data very fast using key "
   ]
  },
  {
   "cell_type": "code",
   "execution_count": 1,
   "id": "9cd7bfdd",
   "metadata": {},
   "outputs": [
    {
     "data": {
      "text/plain": [
       "'value1'"
      ]
     },
     "execution_count": 1,
     "metadata": {},
     "output_type": "execute_result"
    }
   ],
   "source": [
    "newDict = {1:\"value1\", 2:\"value2\"}\n",
    "newDict[1]"
   ]
  },
  {
   "cell_type": "code",
   "execution_count": 2,
   "id": "128322e6",
   "metadata": {},
   "outputs": [
    {
     "data": {
      "text/plain": [
       "2"
      ]
     },
     "execution_count": 2,
     "metadata": {},
     "output_type": "execute_result"
    }
   ],
   "source": [
    "newDict = {\"value1\":1,\"value2\":2}\n",
    "newDict[\"value2\"]"
   ]
  },
  {
   "cell_type": "code",
   "execution_count": 11,
   "id": "baa69364",
   "metadata": {},
   "outputs": [
    {
     "data": {
      "text/plain": [
       "dict_keys(['k1', 2])"
      ]
     },
     "execution_count": 11,
     "metadata": {},
     "output_type": "execute_result"
    }
   ],
   "source": [
    "d1 = {'k1':'key1', 2:'key2','k1':'key2' }"
   ]
  },
  {
   "cell_type": "code",
   "execution_count": null,
   "id": "71c964a5",
   "metadata": {},
   "outputs": [],
   "source": []
  }
 ],
 "metadata": {
  "kernelspec": {
   "display_name": "Python 3 (ipykernel)",
   "language": "python",
   "name": "python3"
  },
  "language_info": {
   "codemirror_mode": {
    "name": "ipython",
    "version": 3
   },
   "file_extension": ".py",
   "mimetype": "text/x-python",
   "name": "python",
   "nbconvert_exporter": "python",
   "pygments_lexer": "ipython3",
   "version": "3.11.5"
  }
 },
 "nbformat": 4,
 "nbformat_minor": 5
}
