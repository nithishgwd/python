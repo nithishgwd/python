{
 "cells": [
  {
   "cell_type": "markdown",
   "id": "2a69394b",
   "metadata": {},
   "source": [
    "# Dictionarie"
   ]
  },
  {
   "cell_type": "markdown",
   "id": "684e0019",
   "metadata": {},
   "source": [
    "- Unordered sequence and cant be sorted\n",
    "- key-value pair no index to grab data\n",
    "- {'key':'value'}\n",
    "- can grab data very fast using key "
   ]
  },
  {
   "cell_type": "code",
   "execution_count": 1,
   "id": "9cd7bfdd",
   "metadata": {},
   "outputs": [
    {
     "data": {
      "text/plain": [
       "'value1'"
      ]
     },
     "execution_count": 1,
     "metadata": {},
     "output_type": "execute_result"
    }
   ],
   "source": [
    "newDict = {1:\"value1\", 2:\"value2\"}\n",
    "newDict[1]"
   ]
  },
  {
   "cell_type": "code",
   "execution_count": 2,
   "id": "128322e6",
   "metadata": {},
   "outputs": [
    {
     "data": {
      "text/plain": [
       "2"
      ]
     },
     "execution_count": 2,
     "metadata": {},
     "output_type": "execute_result"
    }
   ],
   "source": [
    "newDict = {\"value1\":1,\"value2\":2}\n",
    "newDict[\"value2\"]"
   ]
  },
  {
   "cell_type": "code",
   "execution_count": 3,
   "id": "baa69364",
   "metadata": {},
   "outputs": [],
   "source": [
    "d1 = {'k1':'key1', 2:'key2','k1':'key2' }"
   ]
  },
  {
   "cell_type": "code",
   "execution_count": 4,
   "id": "71c964a5",
   "metadata": {},
   "outputs": [
    {
     "data": {
      "text/plain": [
       "'key2'"
      ]
     },
     "execution_count": 4,
     "metadata": {},
     "output_type": "execute_result"
    }
   ],
   "source": [
    "d1[2]"
   ]
  },
  {
   "cell_type": "code",
   "execution_count": 5,
   "id": "4570df27",
   "metadata": {},
   "outputs": [
    {
     "name": "stdout",
     "output_type": "stream",
     "text": [
      "{'k1': ['a', 'b', 'c'], 'k2': ('A', 'B'), 3: 'three'}\n"
     ]
    }
   ],
   "source": [
    "d2 = {\"k1\": [\"a\", \"b\", \"c\"], \"k2\": (\"A\", \"B\"), 3: \"three\"}\n",
    "print(d2)"
   ]
  },
  {
   "cell_type": "markdown",
   "id": "b1bf2518",
   "metadata": {},
   "source": [
    "list from dict copied to another variable "
   ]
  },
  {
   "cell_type": "code",
   "execution_count": 6,
   "id": "859e1336",
   "metadata": {},
   "outputs": [
    {
     "data": {
      "text/plain": [
       "['a', 'b', 'c']"
      ]
     },
     "execution_count": 6,
     "metadata": {},
     "output_type": "execute_result"
    }
   ],
   "source": [
    "myList = d2['k1']\n",
    "myList"
   ]
  },
  {
   "cell_type": "markdown",
   "id": "6e9e6189",
   "metadata": {},
   "source": [
    "object in the list is changed "
   ]
  },
  {
   "cell_type": "code",
   "execution_count": 7,
   "id": "6e9d60a0",
   "metadata": {},
   "outputs": [
    {
     "data": {
      "text/plain": [
       "['A', 'b', 'c']"
      ]
     },
     "execution_count": 7,
     "metadata": {},
     "output_type": "execute_result"
    }
   ],
   "source": [
    "myList[0] = 'A'\n",
    "myList"
   ]
  },
  {
   "cell_type": "markdown",
   "id": "78245c0c",
   "metadata": {},
   "source": [
    "object changed in list also reflected in map also, shared memory "
   ]
  },
  {
   "cell_type": "code",
   "execution_count": 8,
   "id": "e865a219",
   "metadata": {},
   "outputs": [
    {
     "data": {
      "text/plain": [
       "{'k1': ['A', 'b', 'c'], 'k2': ('A', 'B'), 3: 'three'}"
      ]
     },
     "execution_count": 8,
     "metadata": {},
     "output_type": "execute_result"
    }
   ],
   "source": [
    "d2"
   ]
  },
  {
   "cell_type": "code",
   "execution_count": 9,
   "id": "0e04aaf4",
   "metadata": {},
   "outputs": [
    {
     "data": {
      "text/plain": [
       "'A'"
      ]
     },
     "execution_count": 9,
     "metadata": {},
     "output_type": "execute_result"
    }
   ],
   "source": [
    "d2['k1'][0]"
   ]
  },
  {
   "cell_type": "code",
   "execution_count": 10,
   "id": "c863c263",
   "metadata": {},
   "outputs": [
    {
     "data": {
      "text/plain": [
       "'a'"
      ]
     },
     "execution_count": 10,
     "metadata": {},
     "output_type": "execute_result"
    }
   ],
   "source": [
    "# can use list builtin functions directly, remb this dosnt change values, should save in some var\n",
    "d2['k1'][0].lower()"
   ]
  },
  {
   "cell_type": "markdown",
   "id": "162d2a2f",
   "metadata": {},
   "source": [
    "Dict inside dict"
   ]
  },
  {
   "cell_type": "code",
   "execution_count": 11,
   "id": "3ff05d46",
   "metadata": {},
   "outputs": [
    {
     "name": "stdout",
     "output_type": "stream",
     "text": [
      "outside dict d3 -->>> {'insideDictKey': 100}\n",
      "inside dict d3 -->>>  100\n"
     ]
    }
   ],
   "source": [
    "d3 = {'D3key': {'insideDictKey': 100}}\n",
    "print(f\"outside dict d3 -->>> {d3['D3key']}\")\n",
    "print(f\"inside dict d3 -->>>  {d3['D3key']['insideDictKey']}\")"
   ]
  },
  {
   "cell_type": "code",
   "execution_count": 12,
   "id": "878d98a3",
   "metadata": {},
   "outputs": [
    {
     "data": {
      "text/plain": [
       "{'D3key': {'insideDictKey': 200}}"
      ]
     },
     "execution_count": 12,
     "metadata": {},
     "output_type": "execute_result"
    }
   ],
   "source": [
    "# can change values anyTime\n",
    "d3['D3key']['insideDictKey'] = 200\n",
    "d3"
   ]
  },
  {
   "cell_type": "markdown",
   "id": "325e0da7",
   "metadata": {},
   "source": [
    "Dictionary Methods"
   ]
  },
  {
   "cell_type": "code",
   "execution_count": 13,
   "id": "3f67021a",
   "metadata": {},
   "outputs": [
    {
     "name": "stdout",
     "output_type": "stream",
     "text": [
      "get(): Returns the value for the specified key, or None if the key does not exist. ['a', 'b', 'c']\n",
      "keys(): Returns a list of all keys in the dictionary. dict_keys(['k1', 'k2', 3, 4])\n",
      "values(): Returns a list of all values in the dictionary. dict_values([['a', 'b', 'c'], ('A', 'B'), 'three', 4])\n",
      "items(): Returns a list of all key-value pairs in the dictionary. None\n",
      "pop(): Removes and returns the value for the specified key. 4\n",
      "clear(): Removes all elements from the dictionary. None\n",
      "upadted dict d4 --> {}\n"
     ]
    }
   ],
   "source": [
    "d4 = {\"k1\": [\"a\", \"b\", \"c\"], \"k2\": (\"A\", \"B\"), 3: \"three\", 4: 4}\n",
    "print(f\"get(): Returns the value for the specified key, or None if the key does not exist. {d4.get('k1')}\")\n",
    "print(f\"keys(): Returns a list of all keys in the dictionary. {d4.keys()}\")\n",
    "print(f\"values(): Returns a list of all values in the dictionary. {d4.values()}\")\n",
    "print(f\"items(): Returns a list of all key-value pairs in the dictionary. {d4.update()}\")\n",
    "print(f\"pop(): Removes and returns the value for the specified key. {d4.pop(4)}\")\n",
    "print(f\"clear(): Removes all elements from the dictionary. {d4.clear()}\")\n",
    "print(\"upadted dict d4 -->\" ,d4)"
   ]
  },
  {
   "cell_type": "markdown",
   "id": "b1a3805a",
   "metadata": {},
   "source": [
    "update()"
   ]
  },
  {
   "cell_type": "markdown",
   "id": "9b860c72",
   "metadata": {},
   "source": [
    "Example 1: Update Using Another Dictionary\n",
    "Notice that the value of key 'a' in dict1 is updated to 10, and the keys 'd' and 'e' are added to dict1."
   ]
  },
  {
   "cell_type": "code",
   "execution_count": 14,
   "id": "5135aa53",
   "metadata": {},
   "outputs": [
    {
     "name": "stdout",
     "output_type": "stream",
     "text": [
      "{'a': 10, 'b': 2, 'c': 3, 'd': 4, 'e': 5}\n"
     ]
    }
   ],
   "source": [
    "dict1 = {'a': 1, 'b': 2, 'c': 3}\n",
    "dict2 = {'d': 4, 'e': 5, 'a': 10}\n",
    "\n",
    "dict1.update(dict2)\n",
    "\n",
    "print(dict1)"
   ]
  },
  {
   "cell_type": "markdown",
   "id": "714fea62",
   "metadata": {},
   "source": [
    "Example 2: Update Using Iterable of Key-Value Pairs\n",
    "This achieves the same result as Example 1, but uses an iterable of key-value pairs to update the dictionary."
   ]
  },
  {
   "cell_type": "code",
   "execution_count": 15,
   "id": "b5b4c297",
   "metadata": {},
   "outputs": [
    {
     "name": "stdout",
     "output_type": "stream",
     "text": [
      "{'a': 10, 'b': 2, 'c': 3, 'd': 4, 'e': 5}\n"
     ]
    }
   ],
   "source": [
    "dict1 = {'a': 1, 'b': 2, 'c': 3}\n",
    "# list conating tuples\n",
    "pairs = [('d', 4), ('e', 5), ('a', 10)]\n",
    "\n",
    "dict1.update(pairs)\n",
    "\n",
    "print(dict1)"
   ]
  },
  {
   "cell_type": "raw",
   "id": "0f3042cf",
   "metadata": {},
   "source": [
    "Example 3: Update Using Keyword Arguments\n",
    "Here, the update() method is used with keyword arguments to update and add new key-value pairs in the dictionary."
   ]
  },
  {
   "cell_type": "code",
   "execution_count": 19,
   "id": "e4b90e16",
   "metadata": {},
   "outputs": [
    {
     "name": "stdout",
     "output_type": "stream",
     "text": [
      "{'a': 10, 'b': 2, 'c': 3, 'd': 4, 'e': 5}\n"
     ]
    }
   ],
   "source": [
    "my_dict = {'a': 1, 'b': 2, 'c': 3}\n",
    "\n",
    "my_dict.update(d=4, e=5, a=10)\n",
    "\n",
    "print(dict1)"
   ]
  },
  {
   "cell_type": "markdown",
   "id": "3990729b",
   "metadata": {},
   "source": [
    "# Characteristics of Python Dictionary:\n",
    "    Key-Value Pairs: Every element in a dictionary is a key-value pair.\n",
    "    Mutable: You can change the content of a dictionary after it’s defined.\n",
    "    Unordered: The elements are not ordered, and cannot be accessed with an index.\n",
    "    Unique Keys: The keys in a dictionary are unique; you can’t have duplicate keys."
   ]
  },
  {
   "cell_type": "markdown",
   "id": "2075f00e",
   "metadata": {},
   "source": [
    "Looping Through a Dictionary\n",
    "You can loop through a dictionary by keys, values, or key-value pairs."
   ]
  },
  {
   "cell_type": "code",
   "execution_count": 20,
   "id": "b11a7837",
   "metadata": {},
   "outputs": [
    {
     "name": "stdout",
     "output_type": "stream",
     "text": [
      "a\n",
      "b\n",
      "c\n",
      "d\n",
      "e\n"
     ]
    }
   ],
   "source": [
    "# by keys\n",
    "for key in my_dict:\n",
    "    print(key)"
   ]
  },
  {
   "cell_type": "code",
   "execution_count": 21,
   "id": "8fa1e423",
   "metadata": {},
   "outputs": [
    {
     "name": "stdout",
     "output_type": "stream",
     "text": [
      "10\n",
      "2\n",
      "3\n",
      "4\n",
      "5\n"
     ]
    }
   ],
   "source": [
    "# by values\n",
    "for value in my_dict.values():\n",
    "    print(value)"
   ]
  },
  {
   "cell_type": "code",
   "execution_count": 22,
   "id": "56151396",
   "metadata": {},
   "outputs": [
    {
     "name": "stdout",
     "output_type": "stream",
     "text": [
      "a 10\n",
      "b 2\n",
      "c 3\n",
      "d 4\n",
      "e 5\n"
     ]
    }
   ],
   "source": [
    "# key value \n",
    "for key, value in my_dict.items():\n",
    "    print(key, value)"
   ]
  },
  {
   "cell_type": "code",
   "execution_count": 23,
   "id": "7eaa9bf7",
   "metadata": {},
   "outputs": [
    {
     "name": "stdout",
     "output_type": "stream",
     "text": [
      "{'a': 10, 'b': 2, 'c': 3, 'd': 4}\n"
     ]
    }
   ],
   "source": [
    "# removing key value pair\n",
    "del my_dict[\"e\"]\n",
    "print(my_dict)  # Removes the key-value pair \"a\": 5 from the dictionary"
   ]
  }
 ],
 "metadata": {
  "kernelspec": {
   "display_name": "Python 3 (ipykernel)",
   "language": "python",
   "name": "python3"
  },
  "language_info": {
   "codemirror_mode": {
    "name": "ipython",
    "version": 3
   },
   "file_extension": ".py",
   "mimetype": "text/x-python",
   "name": "python",
   "nbconvert_exporter": "python",
   "pygments_lexer": "ipython3",
   "version": "3.11.5"
  }
 },
 "nbformat": 4,
 "nbformat_minor": 5
}
