{
 "cells": [
  {
   "cell_type": "markdown",
   "id": "5a5e5a85",
   "metadata": {},
   "source": [
    "# File Operation\n",
    "    - open, read, write, and closing"
   ]
  },
  {
   "cell_type": "markdown",
   "id": "d9f10bfc",
   "metadata": {},
   "source": [
    "1. Opening file\n",
    "    - use open() func to open file\n",
    "    - requires file name as an argument and optionally, the mode in whc to open\n",
    "        * 'r' :read(default)\n",
    "        * 'w' :write\n",
    "        * 'a' :append\n",
    "        * 'b' :Binary\n",
    "        * 'x' :Exclusive creation\n",
    "        * 'r+':Read and Write\n",
    "        * 'w+':Write and Read\n",
    "        * 'a+':Append and Read"
   ]
  },
  {
   "cell_type": "code",
   "execution_count": 1,
   "id": "a38a1685",
   "metadata": {},
   "outputs": [],
   "source": [
    "# will create file if not exsist\n",
    "file = open('file.txt', 'w')"
   ]
  },
  {
   "cell_type": "code",
   "execution_count": 2,
   "id": "857b01fe",
   "metadata": {},
   "outputs": [],
   "source": [
    "# writes string to files\n",
    "file.write('writing to file')\n",
    "# once open resource should be closed\n",
    "file.close()"
   ]
  },
  {
   "cell_type": "markdown",
   "id": "168755e6",
   "metadata": {},
   "source": [
    "Reading files:"
   ]
  },
  {
   "cell_type": "code",
   "execution_count": 3,
   "id": "3183992b",
   "metadata": {},
   "outputs": [],
   "source": [
    "# will only open file, if file not exsist throw exception\n",
    "file = open('file.txt', 'r')"
   ]
  },
  {
   "cell_type": "code",
   "execution_count": 4,
   "id": "6a933b7a",
   "metadata": {},
   "outputs": [
    {
     "name": "stdout",
     "output_type": "stream",
     "text": [
      "writing to file\n"
     ]
    }
   ],
   "source": [
    "# reading file\n",
    "content = file.read()\n",
    "print(content)\n",
    "# closing file\n",
    "file.close()"
   ]
  },
  {
   "cell_type": "code",
   "execution_count": 5,
   "id": "1561dbef",
   "metadata": {},
   "outputs": [
    {
     "name": "stdout",
     "output_type": "stream",
     "text": [
      "Cursor is positioned at end of file after initial read, so returns empty string\n"
     ]
    },
    {
     "data": {
      "text/plain": [
       "''"
      ]
     },
     "execution_count": 5,
     "metadata": {},
     "output_type": "execute_result"
    }
   ],
   "source": [
    "# using r+ we can read and write only if file exsists\n",
    "file = open(\"file.txt\", 'r+')\n",
    "# writing list of string, this will overwrite exsisting file\n",
    "file.writelines([\"hii, \", \"we \", \"wrote to file again\",\"\\n\",\"next line\"])\n",
    "print(\"Cursor is positioned at end of file after initial read, so returns empty string\")\n",
    "file.read()"
   ]
  },
  {
   "cell_type": "code",
   "execution_count": 6,
   "id": "1560d223",
   "metadata": {},
   "outputs": [
    {
     "name": "stdout",
     "output_type": "stream",
     "text": [
      "hii, we wrote to file again\n",
      "next line\n"
     ]
    }
   ],
   "source": [
    "# above read dosnt print anything becz read is at end of file, as we read at [4]\n",
    "# now we have to move back to index 0\n",
    "file.seek(0)\n",
    "# reads entire content \n",
    "read = file.read()\n",
    "print(read)"
   ]
  },
  {
   "cell_type": "code",
   "execution_count": 7,
   "id": "37b5df99",
   "metadata": {},
   "outputs": [
    {
     "name": "stdout",
     "output_type": "stream",
     "text": [
      "hii, we wrote to file again\n",
      "\n",
      "next line\n"
     ]
    }
   ],
   "source": [
    "file.seek(0)\n",
    "# read 1st line\n",
    "print(file.readline())\n",
    "# cursor is at of line now \n",
    "print(file.readline())"
   ]
  },
  {
   "cell_type": "code",
   "execution_count": 8,
   "id": "5d44b1c1",
   "metadata": {},
   "outputs": [
    {
     "data": {
      "text/plain": [
       "['hii, we wrote to file again\\n', 'next line']"
      ]
     },
     "execution_count": 8,
     "metadata": {},
     "output_type": "execute_result"
    }
   ],
   "source": [
    "file.seek(0)\n",
    "# reads all lines in file\n",
    "file.readlines()"
   ]
  },
  {
   "cell_type": "code",
   "execution_count": 9,
   "id": "853313ac",
   "metadata": {},
   "outputs": [],
   "source": [
    "file.close()"
   ]
  },
  {
   "cell_type": "markdown",
   "id": "65fa313a",
   "metadata": {},
   "source": [
    "writing file "
   ]
  },
  {
   "cell_type": "code",
   "execution_count": 10,
   "id": "e025c299",
   "metadata": {},
   "outputs": [
    {
     "data": {
      "text/plain": [
       "False"
      ]
     },
     "execution_count": 10,
     "metadata": {},
     "output_type": "execute_result"
    }
   ],
   "source": [
    "# only write\n",
    "writeFile = open('newFile.txt', 'w')\n",
    "writeFile.write(\"only write\")\n",
    "writeFile.readable()"
   ]
  },
  {
   "cell_type": "markdown",
   "id": "5da530d0",
   "metadata": {},
   "source": [
    "If file not closed and use open function multiple times\n",
    "- Multiple File Object created, Resource issue and may dont behave as expected\n",
    "- Cursor Position, Each file has its own cursor position. Other file are not aware of changes\n",
    "- Resource Usage, Consumes system resource lead to memory leaks and inefficiency"
   ]
  },
  {
   "cell_type": "code",
   "execution_count": 11,
   "id": "eb4668e5",
   "metadata": {},
   "outputs": [],
   "source": [
    "file.close()"
   ]
  },
  {
   "cell_type": "code",
   "execution_count": 12,
   "id": "c29c2b46",
   "metadata": {},
   "outputs": [
    {
     "data": {
      "text/plain": [
       "True"
      ]
     },
     "execution_count": 12,
     "metadata": {},
     "output_type": "execute_result"
    }
   ],
   "source": [
    "# w+ write and read\n",
    "writeFile = open('newFile.txt', 'w+')\n",
    "writeFile.readable()"
   ]
  },
  {
   "cell_type": "code",
   "execution_count": 13,
   "id": "fa1df48c",
   "metadata": {},
   "outputs": [],
   "source": [
    "listOfStrings = ['line1\\n', 'line2\\n', 'line3']"
   ]
  },
  {
   "cell_type": "code",
   "execution_count": 14,
   "id": "491ca3c2",
   "metadata": {},
   "outputs": [],
   "source": [
    "writeFile.writelines(listOfStrings)\n",
    "writeFile.close()"
   ]
  },
  {
   "cell_type": "markdown",
   "id": "7d899108",
   "metadata": {},
   "source": [
    "Context Manager\n",
    "- Cleaner and more robust way to handle resource"
   ]
  },
  {
   "cell_type": "code",
   "execution_count": 15,
   "id": "d7662909",
   "metadata": {},
   "outputs": [
    {
     "name": "stdout",
     "output_type": "stream",
     "text": [
      "line1\n",
      "line2\n",
      "line3\n",
      "auto closed\n"
     ]
    }
   ],
   "source": [
    "# using 'with'\n",
    "with open('newFile.txt', 'r') as file:\n",
    "    content = file.read()\n",
    "    print(content)\n",
    "    \n",
    "# now file is automatically closed\n",
    "if file.closed:\n",
    "    print(\"auto closed\")"
   ]
  },
  {
   "cell_type": "markdown",
   "id": "f66364e4",
   "metadata": {},
   "source": [
    "Append mode "
   ]
  },
  {
   "cell_type": "code",
   "execution_count": 16,
   "id": "ac9f5dcc",
   "metadata": {},
   "outputs": [
    {
     "name": "stdout",
     "output_type": "stream",
     "text": [
      "line1\n",
      "line2\n",
      "line3\n",
      "line4 appended\n",
      "line5 appended\n",
      "    whitespace line    \n"
     ]
    }
   ],
   "source": [
    "# where cursor will be at end of file always in append mode 'a'\n",
    "with open('newFile.txt', 'a') as file:\n",
    "    file.writelines(['\\nline4 appended', '\\nline5 appended', '\\n    whitespace line    '] )\n",
    "    \n",
    "with open('newFile.txt', 'r') as file:\n",
    "    print(file.read())"
   ]
  },
  {
   "cell_type": "markdown",
   "id": "51eb6458",
   "metadata": {},
   "source": [
    "Looping "
   ]
  },
  {
   "cell_type": "code",
   "execution_count": 17,
   "id": "7a119717",
   "metadata": {},
   "outputs": [
    {
     "name": "stdout",
     "output_type": "stream",
     "text": [
      "line1\n",
      "line2\n",
      "line3\n",
      "line4 appended\n",
      "line5 appended\n",
      "whitespace line\n"
     ]
    }
   ],
   "source": [
    "# using for loop for reading\n",
    "with open('newFile.txt', 'r') as file:\n",
    "    for line in file:\n",
    "        # Prcoess each line\n",
    "        print(line.strip()) # strip removes leading/trailing whitespaces"
   ]
  },
  {
   "cell_type": "code",
   "execution_count": 25,
   "id": "e6fc760e",
   "metadata": {},
   "outputs": [
    {
     "name": "stdout",
     "output_type": "stream",
     "text": [
      "line1\n",
      "\n",
      "line2\n",
      "\n",
      "line3\n",
      "\n",
      "found line3\n",
      "\n"
     ]
    }
   ],
   "source": [
    "# using for loop for reading\n",
    "with open('newFile.txt', 'r') as file:\n",
    "    look_up = \"line3\"\n",
    "    found = False\n",
    "    for line in file:\n",
    "        print(line)\n",
    "        if look_up in line:\n",
    "            # no need to loop after finding\n",
    "            found = True\n",
    "            print(f'found {line}')\n",
    "            break"
   ]
  },
  {
   "cell_type": "code",
   "execution_count": 18,
   "id": "d64e2ec3",
   "metadata": {},
   "outputs": [
    {
     "name": "stdout",
     "output_type": "stream",
     "text": [
      "line1\n",
      "line2\n",
      "line3\n",
      "line4 appended\n",
      "line5 appended\n",
      "whitespace line\n"
     ]
    }
   ],
   "source": [
    "# using 'while' Loop to read lines\n",
    "with open('newFile.txt', 'r') as file:\n",
    "    line = file.readline()\n",
    "\n",
    "    # continues till no more line\n",
    "    while line:\n",
    "        # Prcoess the line\n",
    "        print(line.strip())\n",
    "        # takes next line\n",
    "        line = file.readline()"
   ]
  },
  {
   "cell_type": "markdown",
   "id": "bc4acff2",
   "metadata": {},
   "source": [
    "Exception handling "
   ]
  },
  {
   "cell_type": "code",
   "execution_count": 19,
   "id": "e40f6517",
   "metadata": {},
   "outputs": [
    {
     "name": "stdout",
     "output_type": "stream",
     "text": [
      "file not found\n"
     ]
    }
   ],
   "source": [
    "try:\n",
    "    with open('noFile.txt', 'r') as file:\n",
    "        content = file.read()\n",
    "        \n",
    "except FileNotFoundError:\n",
    "    print('file not found')"
   ]
  },
  {
   "cell_type": "code",
   "execution_count": 23,
   "id": "4ba7b261",
   "metadata": {},
   "outputs": [
    {
     "name": "stdout",
     "output_type": "stream",
     "text": [
      "not writable\n"
     ]
    }
   ],
   "source": [
    "try:\n",
    "    with open('newFile.txt', 'r') as file:\n",
    "        content = file.write(\"\")\n",
    "        \n",
    "except IOError as e:\n",
    "    print(f'{e}')"
   ]
  },
  {
   "cell_type": "code",
   "execution_count": 5,
   "id": "8cc44de2",
   "metadata": {},
   "outputs": [
    {
     "name": "stdout",
     "output_type": "stream",
     "text": [
      "65\n"
     ]
    }
   ],
   "source": [
    "char = 'A'\n",
    "unicode_value = ord(char)\n",
    "# integer repsentation\n",
    "print(unicode_value)"
   ]
  },
  {
   "cell_type": "code",
   "execution_count": 10,
   "id": "cb0a549a",
   "metadata": {},
   "outputs": [
    {
     "name": "stdout",
     "output_type": "stream",
     "text": [
      "[78, 105, 116, 104, 105, 115, 104]\n"
     ]
    }
   ],
   "source": [
    "# using for loop for reading\n",
    "text = \"Nithish\"\n",
    "\n",
    "#Coverting string to ascii values\n",
    "ascii_value = [ord(char) for char in text]\n",
    "\n",
    "with open('encodingManual.txt', 'w') as file:\n",
    "    # write the ASCII values to the files, map maps each int value with str, where str converts int to string\n",
    "    file.write(\"\".join(map(str, ascii_value)))\n",
    "    \n",
    "print(ascii_value)"
   ]
  },
  {
   "cell_type": "code",
   "execution_count": 35,
   "id": "b8af62d8",
   "metadata": {},
   "outputs": [
    {
     "ename": "UnicodeEncodeError",
     "evalue": "'ascii' codec can't encode characters in position 0--1: cannot encode given char",
     "output_type": "error",
     "traceback": [
      "\u001b[1;31m---------------------------------------------------------------------------\u001b[0m",
      "\u001b[1;31mUnicodeEncodeError\u001b[0m                        Traceback (most recent call last)",
      "Cell \u001b[1;32mIn[35], line 19\u001b[0m\n\u001b[0;32m     17\u001b[0m         file\u001b[38;5;241m.\u001b[39mwrite(text)\n\u001b[0;32m     18\u001b[0m     \u001b[38;5;28;01melse\u001b[39;00m:\n\u001b[1;32m---> 19\u001b[0m          \u001b[38;5;28;01mraise\u001b[39;00m \u001b[38;5;167;01mUnicodeEncodeError\u001b[39;00m(encoding, text,\u001b[38;5;241m0\u001b[39m,\u001b[38;5;241m0\u001b[39m,\u001b[38;5;124m\"\u001b[39m\u001b[38;5;124mcannot encode given char\u001b[39m\u001b[38;5;124m\"\u001b[39m)\n\u001b[0;32m     21\u001b[0m \u001b[38;5;28;01mwith\u001b[39;00m \u001b[38;5;28mopen\u001b[39m(\u001b[38;5;124m'\u001b[39m\u001b[38;5;124mencodingUsingArg.txt\u001b[39m\u001b[38;5;124m'\u001b[39m, \u001b[38;5;124m'\u001b[39m\u001b[38;5;124mr\u001b[39m\u001b[38;5;124m'\u001b[39m, encoding\u001b[38;5;241m=\u001b[39m\u001b[38;5;124m'\u001b[39m\u001b[38;5;124mascii\u001b[39m\u001b[38;5;124m'\u001b[39m) \u001b[38;5;28;01mas\u001b[39;00m file:\n\u001b[0;32m     22\u001b[0m     \u001b[38;5;28mprint\u001b[39m(file\u001b[38;5;241m.\u001b[39mread())\n",
      "\u001b[1;31mUnicodeEncodeError\u001b[0m: 'ascii' codec can't encode characters in position 0--1: cannot encode given char"
     ]
    }
   ],
   "source": [
    "# UTF-8 is the modern de-facto standard\n",
    "# Writing text using ascii encoding \n",
    "\n",
    "text = \"Using encoding file argument: café\"\n",
    "\n",
    "encoding = 'ascii'\n",
    "\n",
    "def is_ascii(s):\n",
    "    try:\n",
    "        s.encode(encoding)\n",
    "    except UnicodeEncodeError:\n",
    "        return False\n",
    "    return True\n",
    "        \n",
    "with open('encodingUsingArg.txt', 'w', encoding='ascii') as file:\n",
    "    if is_ascii(text):\n",
    "        file.write(text)\n",
    "    else:\n",
    "         raise UnicodeEncodeError(encoding, text,0,0,\"cannot encode given char\")\n",
    "        \n",
    "with open('encodingUsingArg.txt', 'r', encoding='ascii') as file:\n",
    "    print(file.read())"
   ]
  },
  {
   "cell_type": "code",
   "execution_count": 40,
   "id": "6316fb23",
   "metadata": {},
   "outputs": [
    {
     "name": "stdout",
     "output_type": "stream",
     "text": [
      "Encoding : ascii\n",
      "Using encoding file argument: café\n",
      "33\n",
      "34\n",
      "ordinal not in range(128)\n"
     ]
    }
   ],
   "source": [
    "text = \"Using encoding file argument: café\"\n",
    "encode = 'ascii'\n",
    "\n",
    "try:\n",
    "    with open('encodingUsingArg', 'w', encoding = encode) as file:\n",
    "        file.write(text)\n",
    "except UnicodeEncodeError as e:\n",
    "    print(\"Encoding :\", e.encoding)\n",
    "    print(e.object)\n",
    "    print(e.start)\n",
    "    print(e.end)\n",
    "    print(e.reason)"
   ]
  },
  {
   "cell_type": "code",
   "execution_count": null,
   "id": "d5a94965",
   "metadata": {},
   "outputs": [],
   "source": []
  }
 ],
 "metadata": {
  "kernelspec": {
   "display_name": "Python 3 (ipykernel)",
   "language": "python",
   "name": "python3"
  },
  "language_info": {
   "codemirror_mode": {
    "name": "ipython",
    "version": 3
   },
   "file_extension": ".py",
   "mimetype": "text/x-python",
   "name": "python",
   "nbconvert_exporter": "python",
   "pygments_lexer": "ipython3",
   "version": "3.11.5"
  }
 },
 "nbformat": 4,
 "nbformat_minor": 5
}
