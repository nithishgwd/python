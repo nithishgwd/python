{
 "cells": [
  {
   "cell_type": "markdown",
   "id": "82c9a32e",
   "metadata": {},
   "source": [
    "# String Formatting"
   ]
  },
  {
   "cell_type": "markdown",
   "id": "690e2221",
   "metadata": {},
   "source": [
    "String formatting means constructing a new string by substituting placeholders in a template string with actual values."
   ]
  },
  {
   "cell_type": "markdown",
   "id": "75513f16",
   "metadata": {},
   "source": [
    "1. '%' formatting"
   ]
  },
  {
   "cell_type": "code",
   "execution_count": 2,
   "id": "ea9907a5",
   "metadata": {},
   "outputs": [
    {
     "name": "stdout",
     "output_type": "stream",
     "text": [
      "My name is Nithish and I am 27 years old.\n"
     ]
    }
   ],
   "source": [
    "name = \"Nithish\"\n",
    "age = 27\n",
    "print(\"My name is %s and I am %d years old.\" % (name,age))"
   ]
  },
  {
   "cell_type": "markdown",
   "id": "3a47997e",
   "metadata": {},
   "source": [
    "2. 'str.format()'"
   ]
  },
  {
   "cell_type": "code",
   "execution_count": 17,
   "id": "9b967cd1",
   "metadata": {},
   "outputs": [
    {
     "name": "stdout",
     "output_type": "stream",
     "text": [
      "My name is Nithish and I am 27 years old\n",
      "My full name Nithish Gowda Nithish\n",
      "My full name Nithish Gowda\n"
     ]
    }
   ],
   "source": [
    "lastname = \"Gowda\"\n",
    "print(\"My name is {} and I am {} years old\".format(name, age))\n",
    "# make use of positional and key argumaent to make formatting\n",
    "print(\"My full name {0} {1} {0}\".format(name,lastname))\n",
    "print(\"My full name {firstname} {lastname}\".format(lastname=lastname,firstname=name))"
   ]
  },
  {
   "cell_type": "markdown",
   "id": "176e794d",
   "metadata": {},
   "source": [
    "3. 'F-Strings'"
   ]
  },
  {
   "cell_type": "code",
   "execution_count": 14,
   "id": "6f16fed6",
   "metadata": {},
   "outputs": [
    {
     "name": "stdout",
     "output_type": "stream",
     "text": [
      "My name is Nithish Gowda, 27 years old\n"
     ]
    }
   ],
   "source": [
    "print(f\"My name is {name} {lastname}, {age} years old\")"
   ]
  },
  {
   "cell_type": "markdown",
   "id": "6b2e826a",
   "metadata": {},
   "source": [
    "Float formatting {value:width.precisionf}"
   ]
  },
  {
   "cell_type": "code",
   "execution_count": 45,
   "id": "a12ef6d7",
   "metadata": {},
   "outputs": [
    {
     "name": "stdout",
     "output_type": "stream",
     "text": [
      "result is 12.34429697\n",
      "result is 12.34\n"
     ]
    }
   ],
   "source": [
    "result = 12.34429697\n",
    "print(\"result is {}\".format(result))\n",
    "print(\"result is {r:1.2f}\".format(r=result))"
   ]
  }
 ],
 "metadata": {
  "kernelspec": {
   "display_name": "Python 3 (ipykernel)",
   "language": "python",
   "name": "python3"
  },
  "language_info": {
   "codemirror_mode": {
    "name": "ipython",
    "version": 3
   },
   "file_extension": ".py",
   "mimetype": "text/x-python",
   "name": "python",
   "nbconvert_exporter": "python",
   "pygments_lexer": "ipython3",
   "version": "3.11.5"
  }
 },
 "nbformat": 4,
 "nbformat_minor": 5
}
