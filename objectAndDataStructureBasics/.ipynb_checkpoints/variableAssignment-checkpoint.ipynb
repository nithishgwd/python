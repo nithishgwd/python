{
 "cells": [
  {
   "cell_type": "markdown",
   "id": "93f69c48",
   "metadata": {},
   "source": [
    "# Dynamic Typing"
   ]
  },
  {
   "cell_type": "markdown",
   "id": "95217ffe",
   "metadata": {},
   "source": [
    "pros\n",
    "\n",
    "- No need to declare initially the type of variable\n",
    "- can reassign variable to diffrent data types \n",
    "- very easy to work and faster development\n",
    "\n",
    "cons\n",
    "\n",
    "- need to be aware of type()\n",
    "- my result in bugs for unexpected data type"
   ]
  },
  {
   "cell_type": "code",
   "execution_count": 3,
   "id": "09531d43",
   "metadata": {},
   "outputs": [
    {
     "name": "stdout",
     "output_type": "stream",
     "text": [
      "5\n"
     ]
    }
   ],
   "source": [
    "a = 5 \n",
    "print(a)"
   ]
  },
  {
   "cell_type": "code",
   "execution_count": 4,
   "id": "a55ee2d7",
   "metadata": {},
   "outputs": [
    {
     "name": "stdout",
     "output_type": "stream",
     "text": [
      "20.9\n"
     ]
    }
   ],
   "source": [
    "a = 20.9\n",
    "print(a)"
   ]
  },
  {
   "cell_type": "code",
   "execution_count": 5,
   "id": "fc2c4eb0",
   "metadata": {},
   "outputs": [
    {
     "name": "stdout",
     "output_type": "stream",
     "text": [
      "hello\n"
     ]
    }
   ],
   "source": [
    "a = \"hello\"\n",
    "print(a)"
   ]
  },
  {
   "cell_type": "markdown",
   "id": "8be207b8",
   "metadata": {},
   "source": [
    "# "
   ]
  }
 ],
 "metadata": {
  "kernelspec": {
   "display_name": "Python 3 (ipykernel)",
   "language": "python",
   "name": "python3"
  },
  "language_info": {
   "codemirror_mode": {
    "name": "ipython",
    "version": 3
   },
   "file_extension": ".py",
   "mimetype": "text/x-python",
   "name": "python",
   "nbconvert_exporter": "python",
   "pygments_lexer": "ipython3",
   "version": "3.11.5"
  }
 },
 "nbformat": 4,
 "nbformat_minor": 5
}
