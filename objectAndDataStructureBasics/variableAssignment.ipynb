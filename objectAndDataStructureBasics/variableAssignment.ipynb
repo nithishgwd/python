{
<<<<<<< HEAD
 "cells": [
  {
   "cell_type": "markdown",
   "id": "93f69c48",
   "metadata": {},
   "source": [
    "# Dynamic Typing"
   ]
  },
  {
   "cell_type": "markdown",
   "id": "95217ffe",
   "metadata": {},
   "source": [
    "pros\n",
    "\n",
    "- No need to declare initially the type of variable\n",
    "- can reassign variable to diffrent data types \n",
    "- very easy to work and faster development\n",
    "\n",
    "cons\n",
    "\n",
    "- need to be aware of type()\n",
    "- my result in bugs for unexpected data type"
   ]
  },
  {
   "cell_type": "code",
   "execution_count": 2,
   "id": "09531d43",
   "metadata": {},
   "outputs": [
    {
     "name": "stdout",
     "output_type": "stream",
     "text": [
      "5\n"
     ]
    }
   ],
   "source": [
    "a = 5 \n",
    "print(a)"
   ]
  },
  {
   "cell_type": "code",
   "execution_count": 3,
   "id": "d52d0806",
   "metadata": {},
   "outputs": [
    {
     "data": {
      "text/plain": [
       "int"
      ]
     },
     "execution_count": 3,
     "metadata": {},
     "output_type": "execute_result"
    }
   ],
   "source": [
    "type(a)"
   ]
  },
  {
   "cell_type": "code",
   "execution_count": 4,
   "id": "a55ee2d7",
   "metadata": {},
   "outputs": [
    {
     "name": "stdout",
     "output_type": "stream",
     "text": [
      "20.9\n"
     ]
    }
   ],
   "source": [
    "a = 20.9\n",
    "print(a)"
   ]
  },
  {
   "cell_type": "code",
   "execution_count": 5,
   "id": "8449e981",
   "metadata": {},
   "outputs": [
    {
     "data": {
      "text/plain": [
       "float"
      ]
     },
     "execution_count": 5,
     "metadata": {},
     "output_type": "execute_result"
    }
   ],
   "source": [
    "type(a)"
   ]
  },
  {
   "cell_type": "code",
   "execution_count": 6,
   "id": "fc2c4eb0",
   "metadata": {},
   "outputs": [
=======
  "cells": [
    {
      "cell_type": "markdown",
      "id": "93f69c48",
      "metadata": {
        "id": "93f69c48"
      },
      "source": [
        "# Dynamic Typing"
      ]
    },
    {
      "cell_type": "markdown",
      "id": "95217ffe",
      "metadata": {
        "id": "95217ffe"
      },
      "source": [
        "pros\n",
        "\n",
        "- No need to declare initially the type of variable\n",
        "- can reassign variable to diffrent data types\n",
        "- very easy to work and faster development\n",
        "\n",
        "cons\n",
        "\n",
        "- need to be aware of type()\n",
        "- my result in bugs for unexpected data type"
      ]
    },
>>>>>>> 8a677aca057d475b54b3efb767044d058daae1f5
    {
      "cell_type": "code",
      "execution_count": null,
      "id": "09531d43",
      "metadata": {
        "id": "09531d43",
        "outputId": "77b892b8-3c30-4f74-80fd-ceeb6bcf9970"
      },
      "outputs": [
        {
          "name": "stdout",
          "output_type": "stream",
          "text": [
            "5\n"
          ]
        }
      ],
      "source": [
        "a = 5\n",
        "print(a)"
      ]
    },
    {
      "cell_type": "code",
      "execution_count": null,
      "id": "a55ee2d7",
      "metadata": {
        "id": "a55ee2d7",
        "outputId": "9ba9e55d-8a27-429c-a83e-6a8a1ed22457"
      },
      "outputs": [
        {
          "name": "stdout",
          "output_type": "stream",
          "text": [
            "20.9\n"
          ]
        }
      ],
      "source": [
        "a = 20.9\n",
        "print(a)"
      ]
    },
    {
      "cell_type": "code",
      "execution_count": null,
      "id": "fc2c4eb0",
      "metadata": {
        "id": "fc2c4eb0",
        "outputId": "ba6480b3-a0ea-4cd7-b418-60bcbcac5d56"
      },
      "outputs": [
        {
          "name": "stdout",
          "output_type": "stream",
          "text": [
            "hello\n"
          ]
        }
      ],
      "source": [
        "a = \"hello\"\n",
        "print(a)"
      ]
    }
  ],
  "metadata": {
    "kernelspec": {
      "display_name": "Python 3 (ipykernel)",
      "language": "python",
      "name": "python3"
    },
    "language_info": {
      "codemirror_mode": {
        "name": "ipython",
        "version": 3
      },
      "file_extension": ".py",
      "mimetype": "text/x-python",
      "name": "python",
      "nbconvert_exporter": "python",
      "pygments_lexer": "ipython3",
      "version": "3.11.5"
    },
    "colab": {
      "provenance": []
    }
  },
<<<<<<< HEAD
  {
   "cell_type": "code",
   "execution_count": 7,
   "id": "a7264ca8",
   "metadata": {},
   "outputs": [
    {
     "data": {
      "text/plain": [
       "str"
      ]
     },
     "execution_count": 7,
     "metadata": {},
     "output_type": "execute_result"
    }
   ],
   "source": [
    "type(a) "
   ]
  },
  {
   "cell_type": "code",
   "execution_count": 8,
   "id": "83770726",
   "metadata": {},
   "outputs": [
    {
     "name": "stdout",
     "output_type": "stream",
     "text": [
      "[1, 'nithish', 10.5]\n"
     ]
    }
   ],
   "source": [
    "a = [1, \"nithish\", 10.5]\n",
    "print(a)"
   ]
  },
  {
   "cell_type": "code",
   "execution_count": 9,
   "id": "02e67eb8",
   "metadata": {},
   "outputs": [
    {
     "data": {
      "text/plain": [
       "list"
      ]
     },
     "execution_count": 9,
     "metadata": {},
     "output_type": "execute_result"
    }
   ],
   "source": [
    "type(a)"
   ]
  }
 ],
 "metadata": {
  "kernelspec": {
   "display_name": "Python 3 (ipykernel)",
   "language": "python",
   "name": "python3"
  },
  "language_info": {
   "codemirror_mode": {
    "name": "ipython",
    "version": 3
   },
   "file_extension": ".py",
   "mimetype": "text/x-python",
   "name": "python",
   "nbconvert_exporter": "python",
   "pygments_lexer": "ipython3",
   "version": "3.11.5"
  }
 },
 "nbformat": 4,
 "nbformat_minor": 5
}
=======
  "nbformat": 4,
  "nbformat_minor": 5
}
>>>>>>> 8a677aca057d475b54b3efb767044d058daae1f5
