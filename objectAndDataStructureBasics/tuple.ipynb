{
 "cells": [
  {
   "cell_type": "markdown",
   "id": "98d59bf7",
   "metadata": {},
   "source": [
    "# Characteristics of Tuples:\n",
    "    Ordered: Tuples maintain the order of elements.\n",
    "    Immutable: Once a tuple is assigned, you cannot change, add, or remove elements, although you can concatenate tuples.\n",
    "    Allow Duplicates: Tuples can contain duplicate elements.\n",
    "    Indexed: Elements in a tuple can be accessed using indices.\n",
    "    Support Multiple Data Types: Tuples can store different data types.# Characteristics of Tuples:"
   ]
  },
  {
   "cell_type": "markdown",
   "id": "19f3ba74",
   "metadata": {},
   "source": [
    "1. Mutability:\n",
    "    - List: Lists are mutable. You can change their content, meaning you can add, remove, or modify elements after the list has been created.\n",
    "    - Tuple: Tuples are immutable. Once a tuple is created, you can't alter its contents, meaning you can't add, remove, or change elements.\n",
    "2. Syntax:\n",
    "    - List: Lists are defined by square brackets [].\n",
    "    - Tuple: Tuples are defined by parentheses () or nothing at all.\n",
    "3. Performance:\n",
    "    - List: Lists have a bit of overhead for supporting element modifications.\n",
    "    - Tuple: Tuples are generally faster and require less memory because they are immutable.\n",
    "4. Use Cases:\n",
    "    - List: Use a list when you need a collection of items that might need to be modified or extended.\n",
    "    - Tuple: Use a tuple when you want to store a collection of items that should not be changed throughout the program.\n",
    "5. Storage:\n",
    "    - List: Being mutable, lists store two elements - the value and the reference to the value.\n",
    "    - Tuple: Tuples only store the reference to the item.\n",
    "6. Methods:\n",
    "    - List: Lists have several built-in methods, like append(), remove(), insert(), etc., because they are mutable.\n",
    "    - Tuple: Tuples have limited functionality, with built-in methods mainly including count() and index().\n",
    "7. Iterating:\n",
    "    - List: Iterating through a list is slightly slower because of the overhead from the mutable nature of lists.\n",
    "    - Tuple: Iterating through a tuple is faster."
   ]
  },
  {
   "cell_type": "code",
   "execution_count": 2,
   "id": "84d94c01",
   "metadata": {},
   "outputs": [
    {
     "data": {
      "text/plain": [
       "(1, 2.5, 'Python', True)"
      ]
     },
     "execution_count": 2,
     "metadata": {},
     "output_type": "execute_result"
    }
   ],
   "source": [
    "my_tuple = (1, 2.5, \"Python\", True)\n",
    "my_tuple"
   ]
  },
  {
   "cell_type": "code",
   "execution_count": 3,
   "id": "6b950f70",
   "metadata": {},
   "outputs": [
    {
     "data": {
      "text/plain": [
       "2.5"
      ]
     },
     "execution_count": 3,
     "metadata": {},
     "output_type": "execute_result"
    }
   ],
   "source": [
    "my_tuple[1]"
   ]
  },
  {
   "cell_type": "markdown",
   "id": "0819adbd",
   "metadata": {},
   "source": [
    "Nested Tuples:\n",
    "    - Tuples can contain other tuples."
   ]
  },
  {
   "cell_type": "code",
   "execution_count": 5,
   "id": "8dbd6378",
   "metadata": {},
   "outputs": [
    {
     "data": {
      "text/plain": [
       "(3, 4)"
      ]
     },
     "execution_count": 5,
     "metadata": {},
     "output_type": "execute_result"
    }
   ],
   "source": [
    "nested_tuple = (1, 2, (3, 4), 5)\n",
    "nested_tuple[2]"
   ]
  },
  {
   "cell_type": "code",
   "execution_count": 6,
   "id": "4e4380c4",
   "metadata": {},
   "outputs": [
    {
     "data": {
      "text/plain": [
       "3"
      ]
     },
     "execution_count": 6,
     "metadata": {},
     "output_type": "execute_result"
    }
   ],
   "source": [
    "nested_tuple[2][0]"
   ]
  },
  {
   "cell_type": "code",
   "execution_count": 14,
   "id": "c3048323",
   "metadata": {},
   "outputs": [
    {
     "name": "stdout",
     "output_type": "stream",
     "text": [
      "(1, [2, 3], 4)\n",
      "None\n"
     ]
    }
   ],
   "source": [
    "# However, this is valid\n",
    "my_tuple2 = (1, [2, 3], 4)\n",
    "print(my_tuple2)\n",
    "print(my_tuple2[1].append(5))"
   ]
  },
  {
   "cell_type": "code",
   "execution_count": 26,
   "id": "9eab3273",
   "metadata": {},
   "outputs": [
    {
     "name": "stdout",
     "output_type": "stream",
     "text": [
      "[0, 3, 5]\n",
      "(1, [0, 3, 5], 4)\n"
     ]
    }
   ],
   "source": [
    "my_list = my_tuple2[1]\n",
    "my_list[0] = 0\n",
    "print(my_list)\n",
    "# value in my_tuple2 is changed too because my_tuple2 is a tuple of mutable objects (list) and the list is changed.\n",
    "print(my_tuple2)"
   ]
  },
  {
   "cell_type": "code",
   "execution_count": 29,
   "id": "92787e8d",
   "metadata": {},
   "outputs": [
    {
     "name": "stdout",
     "output_type": "stream",
     "text": [
      "(2.5, 'Python')\n"
     ]
    }
   ],
   "source": [
    "# You can slice a tuple, which returns a new tuple containing elements from the specified range.\n",
    "print(my_tuple[1:3])"
   ]
  },
  {
   "cell_type": "code",
   "execution_count": 31,
   "id": "cc25f30d",
   "metadata": {},
   "outputs": [
    {
     "data": {
      "text/plain": [
       "(1, 2.5, 'Python', True, 5, 6, 7)"
      ]
     },
     "execution_count": 31,
     "metadata": {},
     "output_type": "execute_result"
    }
   ],
   "source": [
    "# Though tuples are immutable, you can concatenate them to create a new tuple.\n",
    "new_tuple = my_tuple + (5, 6, 7)\n",
    "new_tuple"
   ]
  },
  {
   "cell_type": "code",
   "execution_count": 34,
   "id": "1849af3a",
   "metadata": {},
   "outputs": [
    {
     "name": "stdout",
     "output_type": "stream",
     "text": [
      "1 2.5 Python True\n"
     ]
    }
   ],
   "source": [
    "a, b, c, d = my_tuple\n",
    "print(a, b, c, d)"
   ]
  },
  {
   "cell_type": "code",
   "execution_count": 35,
   "id": "34514dc8",
   "metadata": {},
   "outputs": [
    {
     "data": {
      "text/plain": [
       "(1,)"
      ]
     },
     "execution_count": 35,
     "metadata": {},
     "output_type": "execute_result"
    }
   ],
   "source": [
    "# For a tuple with a single element, include a comma at the end.\n",
    "single_element_tuple = (1,)\n",
    "single_element_tuple"
   ]
  },
  {
   "cell_type": "code",
   "execution_count": 42,
   "id": "a721903e",
   "metadata": {},
   "outputs": [
    {
     "name": "stdout",
     "output_type": "stream",
     "text": [
      "1 2\n"
     ]
    }
   ],
   "source": [
    "# Tuples have built-in methods like count() and index().\n",
    "count = my_tuple.count(\"Python\")  # Counts the occurrence of the specified element\n",
    "index = my_tuple.index('Python')  # Finds the index of the specified element\n",
    "print(count, index)"
   ]
  },
  {
   "cell_type": "code",
   "execution_count": 43,
   "id": "2cda2147",
   "metadata": {},
   "outputs": [
    {
     "name": "stdout",
     "output_type": "stream",
     "text": [
      "(1, 2, 3, 4, 5)\n"
     ]
    }
   ],
   "source": [
    "# can also create a tuple using the tuple() constructor.\n",
    "my_list = [1, 2, 3, 4, 5]\n",
    "my_tuple = tuple(my_list)\n",
    "print(my_tuple)  # Output: (1, 2, 3, 4, 5)"
   ]
  },
  {
   "cell_type": "code",
   "execution_count": 44,
   "id": "04eecf9a",
   "metadata": {},
   "outputs": [
    {
     "name": "stdout",
     "output_type": "stream",
     "text": [
      "('h', 'e', 'l', 'l', 'o')\n"
     ]
    }
   ],
   "source": [
    "my_string = \"hello\"\n",
    "my_tuple = tuple(my_string)\n",
    "print(my_tuple)"
   ]
  },
  {
   "cell_type": "code",
   "execution_count": 46,
   "id": "dce6d88e",
   "metadata": {},
   "outputs": [
    {
     "data": {
      "text/plain": [
       "('h', 'e', 'l', 'l', 'o')"
      ]
     },
     "execution_count": 46,
     "metadata": {},
     "output_type": "execute_result"
    }
   ],
   "source": [
    "another_tuple = tuple(my_tuple)\n",
    "another_tuple"
   ]
  },
  {
   "cell_type": "code",
   "execution_count": 47,
   "id": "e682dc5f",
   "metadata": {},
   "outputs": [
    {
     "data": {
      "text/plain": [
       "('h', 'e', 'l', 'l', 'o')"
      ]
     },
     "execution_count": 47,
     "metadata": {},
     "output_type": "execute_result"
    }
   ],
   "source": [
    "copy_tuple = my_tuple\n",
    "copy_tuple"
   ]
  },
  {
   "cell_type": "code",
   "execution_count": 50,
   "id": "720c62ce",
   "metadata": {},
   "outputs": [
    {
     "data": {
      "text/plain": [
       "1"
      ]
     },
     "execution_count": 50,
     "metadata": {},
     "output_type": "execute_result"
    }
   ],
   "source": [
    "my_tuple.index('e')"
   ]
  },
  {
   "cell_type": "markdown",
   "id": "fbd41f42",
   "metadata": {},
   "source": [
    "Looping through a tuple in Python can be done in several ways, most commonly using a for loop. Below are different ways to loop through a tuple."
   ]
  },
  {
   "cell_type": "code",
   "execution_count": 51,
   "id": "cfc6bcad",
   "metadata": {},
   "outputs": [
    {
     "name": "stdout",
     "output_type": "stream",
     "text": [
      "1\n",
      "2\n",
      "3\n",
      "4\n",
      "5\n"
     ]
    }
   ],
   "source": [
    "# 1. Using a for Loop\n",
    "my_tuple = (1, 2, 3, 4, 5)\n",
    "\n",
    "for item in my_tuple:\n",
    "    print(item)\n"
   ]
  },
  {
   "cell_type": "code",
   "execution_count": 52,
   "id": "16d9ad55",
   "metadata": {},
   "outputs": [
    {
     "name": "stdout",
     "output_type": "stream",
     "text": [
      "1\n",
      "2\n",
      "3\n",
      "4\n",
      "5\n"
     ]
    }
   ],
   "source": [
    "# 2. Using a for Loop with Index\n",
    "my_tuple = (1, 2, 3, 4, 5)\n",
    "\n",
    "for i in range(len(my_tuple)):\n",
    "    print(my_tuple[i])"
   ]
  },
  {
   "cell_type": "code",
   "execution_count": 53,
   "id": "cfc43d58",
   "metadata": {},
   "outputs": [
    {
     "name": "stdout",
     "output_type": "stream",
     "text": [
      "1\n",
      "2\n",
      "3\n",
      "4\n",
      "5\n"
     ]
    }
   ],
   "source": [
    "# 3. Using a While Loop\n",
    "my_tuple = (1, 2, 3, 4, 5)\n",
    "i = 0\n",
    "\n",
    "while i < len(my_tuple):\n",
    "    print(my_tuple[i])\n",
    "    i += 1"
   ]
  },
  {
   "cell_type": "code",
   "execution_count": 54,
   "id": "4509c94d",
   "metadata": {},
   "outputs": [
    {
     "name": "stdout",
     "output_type": "stream",
     "text": [
      "Index 0: 1\n",
      "Index 1: 2\n",
      "Index 2: 3\n",
      "Index 3: 4\n",
      "Index 4: 5\n"
     ]
    }
   ],
   "source": [
    "# 4. Using Enumeration\n",
    "my_tuple = (1, 2, 3, 4, 5)\n",
    "\n",
    "for index, item in enumerate(my_tuple):\n",
    "    print(f\"Index {index}: {item}\")"
   ]
  },
  {
   "cell_type": "code",
   "execution_count": 55,
   "id": "0d9eaef0",
   "metadata": {},
   "outputs": [
    {
     "name": "stdout",
     "output_type": "stream",
     "text": [
      "[1, 2, 3, 4, 5]\n"
     ]
    }
   ],
   "source": [
    "# 5. Using List Comprehension (for creating a new list)\n",
    "my_tuple = (1, 2, 3, 4, 5)\n",
    "new_list = [x for x in my_tuple]\n",
    "print(new_list)  # Output: [1, 2, 3, 4, 5]"
   ]
  }
 ],
 "metadata": {
  "kernelspec": {
   "display_name": "Python 3 (ipykernel)",
   "language": "python",
   "name": "python3"
  },
  "language_info": {
   "codemirror_mode": {
    "name": "ipython",
    "version": 3
   },
   "file_extension": ".py",
   "mimetype": "text/x-python",
   "name": "python",
   "nbconvert_exporter": "python",
   "pygments_lexer": "ipython3",
   "version": "3.11.5"
  }
 },
 "nbformat": 4,
 "nbformat_minor": 5
}
