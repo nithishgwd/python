{
 "cells": [
  {
   "cell_type": "markdown",
   "id": "266f83af",
   "metadata": {},
   "source": [
    "# Strings"
   ]
  },
  {
   "cell_type": "markdown",
   "id": "3c28e4d6",
   "metadata": {},
   "source": [
    "- strings are sequences of characters.\n",
    "- we use single quotes or double quotes.\n",
    "- Strings are ordered sequence we can do indexing[] and slicing\n",
    "- Character: h e l l o, Index: 0 1 2 3 4 , Reverse Index: -5 -4 -3 -2 -1\n",
    "- Slicing [start:stop:step]\n"
   ]
  },
  {
   "cell_type": "code",
   "execution_count": 3,
   "id": "06dc80e5",
   "metadata": {},
   "outputs": [
    {
     "name": "stdout",
     "output_type": "stream",
     "text": [
      "I'm doing python code\n"
     ]
    }
   ],
   "source": [
    "print(\"I'm doing python code\")"
   ]
  },
  {
   "cell_type": "code",
   "execution_count": 4,
   "id": "83f8b6a7",
   "metadata": {},
   "outputs": [
    {
     "name": "stdout",
     "output_type": "stream",
     "text": [
      "\"hiii...\"\n"
     ]
    }
   ],
   "source": [
    "print('\"hiii...\"')"
   ]
  },
  {
   "cell_type": "code",
   "execution_count": 5,
   "id": "b85c14b7",
   "metadata": {},
   "outputs": [
    {
     "data": {
      "text/plain": [
       "21"
      ]
     },
     "execution_count": 5,
     "metadata": {},
     "output_type": "execute_result"
    }
   ],
   "source": [
    "len(\"I'm doing python code\")"
   ]
  },
  {
   "cell_type": "code",
   "execution_count": 13,
   "id": "ed280fd4",
   "metadata": {},
   "outputs": [
    {
     "name": "stdout",
     "output_type": "stream",
     "text": [
      "n\n",
      "h\n",
      "n\n",
      "h\n"
     ]
    }
   ],
   "source": [
    "newString = 'nithish'\n",
    "print(newString[0])\n",
    "print(newString[6])\n",
    "# same as above, reverse indexing \n",
    "print(newString[-7])\n",
    "print(newString[-1])"
   ]
  },
  {
   "cell_type": "code",
   "execution_count": 38,
   "id": "ea57d0ed",
   "metadata": {},
   "outputs": [
    {
     "data": {
      "text/plain": [
       "'nithish'"
      ]
     },
     "execution_count": 38,
     "metadata": {},
     "output_type": "execute_result"
    }
   ],
   "source": [
    "# slicing default\n",
    "newString[::]"
   ]
  },
  {
   "cell_type": "code",
   "execution_count": 21,
   "id": "99db2be9",
   "metadata": {},
   "outputs": [
    {
     "data": {
      "text/plain": [
       "'ithis'"
      ]
     },
     "execution_count": 21,
     "metadata": {},
     "output_type": "execute_result"
    }
   ],
   "source": [
    "# end: upto 6th index but not including \n",
    "newString[1:6]"
   ]
  },
  {
   "cell_type": "code",
   "execution_count": 22,
   "id": "cbfa4353",
   "metadata": {},
   "outputs": [
    {
     "data": {
      "text/plain": [
       "'nti'"
      ]
     },
     "execution_count": 22,
     "metadata": {},
     "output_type": "execute_result"
    }
   ],
   "source": [
    "# step: 2\n",
    "newString[0:6:2]"
   ]
  },
  {
   "cell_type": "code",
   "execution_count": 23,
   "id": "796c2041",
   "metadata": {},
   "outputs": [
    {
     "data": {
      "text/plain": [
       "'hsihtin'"
      ]
     },
     "execution_count": 23,
     "metadata": {},
     "output_type": "execute_result"
    }
   ],
   "source": [
    "# printing reverse\n",
    "newString[::-1]"
   ]
  },
  {
   "cell_type": "code",
   "execution_count": 24,
   "id": "b7f3e169",
   "metadata": {},
   "outputs": [
    {
     "data": {
      "text/plain": [
       "'hitn'"
      ]
     },
     "execution_count": 24,
     "metadata": {},
     "output_type": "execute_result"
    }
   ],
   "source": [
    "# reverse with step\n",
    "newString[::-2]"
   ]
  },
  {
   "cell_type": "code",
   "execution_count": 32,
   "id": "9958c66d",
   "metadata": {},
   "outputs": [
    {
     "data": {
      "text/plain": [
       "'sihti'"
      ]
     },
     "execution_count": 32,
     "metadata": {},
     "output_type": "execute_result"
    }
   ],
   "source": [
    "# start at 5th postion and print upto 0th pos\n",
    "newString[5:0:-1]"
   ]
  },
  {
   "cell_type": "markdown",
   "id": "cf3ec5ed",
   "metadata": {},
   "source": [
    "# Immutability"
   ]
  },
  {
   "cell_type": "markdown",
   "id": "cf314006",
   "metadata": {},
   "source": [
    "- cant change char in string"
   ]
  },
  {
   "cell_type": "code",
   "execution_count": 39,
   "id": "d92ac3a4",
   "metadata": {},
   "outputs": [
    {
     "ename": "TypeError",
     "evalue": "'str' object does not support item assignment",
     "output_type": "error",
     "traceback": [
      "\u001b[1;31m---------------------------------------------------------------------------\u001b[0m",
      "\u001b[1;31mTypeError\u001b[0m                                 Traceback (most recent call last)",
      "Cell \u001b[1;32mIn[39], line 1\u001b[0m\n\u001b[1;32m----> 1\u001b[0m newString[\u001b[38;5;241m0\u001b[39m] \u001b[38;5;241m=\u001b[39m \u001b[38;5;124m'\u001b[39m\u001b[38;5;124mN\u001b[39m\u001b[38;5;124m'\u001b[39m\n",
      "\u001b[1;31mTypeError\u001b[0m: 'str' object does not support item assignment"
     ]
    }
   ],
   "source": [
    "newString[0] = 'N'"
   ]
  },
  {
   "cell_type": "markdown",
   "id": "c2015de4",
   "metadata": {},
   "source": [
    "- So, we can do by string concatenation."
   ]
  },
  {
   "cell_type": "code",
   "execution_count": 78,
   "id": "0a1f5a0f",
   "metadata": {},
   "outputs": [
    {
     "data": {
      "text/plain": [
       "'Nithish'"
      ]
     },
     "execution_count": 78,
     "metadata": {},
     "output_type": "execute_result"
    }
   ],
   "source": [
    "copyString = newString[1:] \n",
    "'N' + copyString"
   ]
  },
  {
   "cell_type": "code",
   "execution_count": 79,
   "id": "2f14dd55",
   "metadata": {},
   "outputs": [
    {
     "name": "stdout",
     "output_type": "stream",
     "text": [
      "Hello, Nithish\n",
      "Hello, Nithish\n"
     ]
    }
   ],
   "source": [
    "addString = 'Hello'\n",
    "addedString = addString + \", N\" + copyString\n",
    "print(addedString)\n",
    "# using f-string to format the string and concatenate the string with the variable copyString and addString \n",
    "print(f'{addString}, N{copyString}')"
   ]
  },
  {
   "cell_type": "markdown",
   "id": "37f9ac84",
   "metadata": {},
   "source": [
    "print multiple times "
   ]
  },
  {
   "cell_type": "code",
   "execution_count": 80,
   "id": "c4324664",
   "metadata": {},
   "outputs": [
    {
     "data": {
      "text/plain": [
       "'nithishnithishnithish'"
      ]
     },
     "execution_count": 80,
     "metadata": {},
     "output_type": "execute_result"
    }
   ],
   "source": [
    "newString * 3"
   ]
  },
  {
   "cell_type": "markdown",
   "id": "73b5df0c",
   "metadata": {},
   "source": [
    "inbuilt functions of string"
   ]
  },
  {
   "cell_type": "code",
   "execution_count": 81,
   "id": "e3d82731",
   "metadata": {},
   "outputs": [
    {
     "data": {
      "text/plain": [
       "'Nithish'"
      ]
     },
     "execution_count": 81,
     "metadata": {},
     "output_type": "execute_result"
    }
   ],
   "source": [
    "newString.capitalize()"
   ]
  },
  {
   "cell_type": "code",
   "execution_count": 82,
   "id": "e7586f66",
   "metadata": {},
   "outputs": [
    {
     "data": {
      "text/plain": [
       "True"
      ]
     },
     "execution_count": 82,
     "metadata": {},
     "output_type": "execute_result"
    }
   ],
   "source": [
    "newString.isalpha()"
   ]
  },
  {
   "cell_type": "code",
   "execution_count": 83,
   "id": "1b4a61dd",
   "metadata": {},
   "outputs": [
    {
     "data": {
      "text/plain": [
       "2"
      ]
     },
     "execution_count": 83,
     "metadata": {},
     "output_type": "execute_result"
    }
   ],
   "source": [
    "newString.find(\"t\")"
   ]
  },
  {
   "cell_type": "code",
   "execution_count": 84,
   "id": "f3b233ed",
   "metadata": {},
   "outputs": [
    {
     "data": {
      "text/plain": [
       "['Hello,', 'Nithish']"
      ]
     },
     "execution_count": 84,
     "metadata": {},
     "output_type": "execute_result"
    }
   ],
   "source": [
    "# default split on whitespace\n",
    "addedString.split()"
   ]
  },
  {
   "cell_type": "code",
   "execution_count": 85,
   "id": "97495072",
   "metadata": {},
   "outputs": [
    {
     "data": {
      "text/plain": [
       "2"
      ]
     },
     "execution_count": 85,
     "metadata": {},
     "output_type": "execute_result"
    }
   ],
   "source": [
    "# counts number of time a char present in string\n",
    "addedString.count(\"h\")"
   ]
  },
  {
   "cell_type": "code",
   "execution_count": 105,
   "id": "83804b22",
   "metadata": {},
   "outputs": [
    {
     "data": {
      "text/plain": [
       "\"a coder's code is their sword, and their mind is their shield.\""
      ]
     },
     "execution_count": 105,
     "metadata": {},
     "output_type": "execute_result"
    }
   ],
   "source": [
    "x = \"A coder's Code is their Sword, and their Mind is their Shield.\"\n",
    "x.casefold()"
   ]
  },
  {
   "cell_type": "code",
   "execution_count": 106,
   "id": "a2de0f25",
   "metadata": {},
   "outputs": [
    {
     "data": {
      "text/plain": [
       "False"
      ]
     },
     "execution_count": 106,
     "metadata": {},
     "output_type": "execute_result"
    }
   ],
   "source": [
    "x.endswith(\"N\")"
   ]
  },
  {
   "cell_type": "code",
   "execution_count": 111,
   "id": "aa7f5449",
   "metadata": {},
   "outputs": [
    {
     "name": "stdout",
     "output_type": "stream",
     "text": [
      "abc\txyz\n",
      "abc xyz\n"
     ]
    }
   ],
   "source": [
    "y = \"abc\\txyz\"\n",
    "print(y)\n",
    "# default size 8 spaces\n",
    "print(y.expandtabs(4))"
   ]
  },
  {
   "cell_type": "code",
   "execution_count": 115,
   "id": "0280977e",
   "metadata": {},
   "outputs": [
    {
     "data": {
      "text/plain": [
       "True"
      ]
     },
     "execution_count": 115,
     "metadata": {},
     "output_type": "execute_result"
    }
   ],
   "source": [
    "z = \"9\"\n",
    "z.isdecimal()"
   ]
  },
  {
   "cell_type": "code",
   "execution_count": 126,
   "id": "e315d0e1",
   "metadata": {},
   "outputs": [
    {
     "data": {
      "text/plain": [
       "('hii! ', '1', ' How are you')"
      ]
     },
     "execution_count": 126,
     "metadata": {},
     "output_type": "execute_result"
    }
   ],
   "source": [
    "# part before separator, the separator itself, and the part after the separator, gives tuple\n",
    "x = \"hii! 1 How are you\"\n",
    "x.partition(\"1\")"
   ]
  }
 ],
 "metadata": {
  "kernelspec": {
   "display_name": "Python 3 (ipykernel)",
   "language": "python",
   "name": "python3"
  },
  "language_info": {
   "codemirror_mode": {
    "name": "ipython",
    "version": 3
   },
   "file_extension": ".py",
   "mimetype": "text/x-python",
   "name": "python",
   "nbconvert_exporter": "python",
   "pygments_lexer": "ipython3",
   "version": "3.11.5"
  }
 },
 "nbformat": 4,
 "nbformat_minor": 5
}
