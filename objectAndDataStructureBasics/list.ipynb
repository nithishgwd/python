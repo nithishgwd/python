{
 "cells": [
  {
   "cell_type": "markdown",
   "id": "6fed9009",
   "metadata": {},
   "source": [
    "# List"
   ]
  },
  {
   "cell_type": "markdown",
   "id": "0e0c8070",
   "metadata": {},
   "source": [
    "- Orderd Sequence\n",
    "- mutable\n",
    "- it allows duplicate elements\n",
    "- can contain diff data types"
   ]
  },
  {
   "cell_type": "code",
   "execution_count": 1,
   "id": "3b916b19",
   "metadata": {},
   "outputs": [],
   "source": [
    "newList = [1, \"two\", 3]"
   ]
  },
  {
   "cell_type": "code",
   "execution_count": 2,
   "id": "361f3e4a",
   "metadata": {},
   "outputs": [],
   "source": [
    "secondList = [\"four\"]"
   ]
  },
  {
   "cell_type": "code",
   "execution_count": 3,
   "id": "043d7785",
   "metadata": {},
   "outputs": [
    {
     "name": "stdout",
     "output_type": "stream",
     "text": [
      "[1, 'two', 3] ['four'] [1, 'two', 3, 'four']\n"
     ]
    }
   ],
   "source": [
    "addList = newList + secondList\n",
    "print(newList,secondList,addList)"
   ]
  },
  {
   "cell_type": "code",
   "execution_count": 4,
   "id": "5773fc9a",
   "metadata": {},
   "outputs": [
    {
     "name": "stdout",
     "output_type": "stream",
     "text": [
      "['one', 'two', 3] [1, 'two', 3, 'four']\n"
     ]
    }
   ],
   "source": [
    "# No change in addList\n",
    "newList[0] = \"one\"\n",
    "print(newList,addList)"
   ]
  },
  {
   "cell_type": "code",
   "execution_count": 5,
   "id": "2fb05fc8",
   "metadata": {},
   "outputs": [
    {
     "data": {
      "text/plain": [
       "[1, 'two', 3, 'four', 5]"
      ]
     },
     "execution_count": 5,
     "metadata": {},
     "output_type": "execute_result"
    }
   ],
   "source": [
    "addList.append(5)\n",
    "addList"
   ]
  },
  {
   "cell_type": "code",
   "execution_count": 6,
   "id": "72b7f965",
   "metadata": {},
   "outputs": [
    {
     "data": {
      "text/plain": [
       "['one', 'two', 3, 'four']"
      ]
     },
     "execution_count": 6,
     "metadata": {},
     "output_type": "execute_result"
    }
   ],
   "source": [
    "newList.extend(secondList)\n",
    "newList"
   ]
  },
  {
   "cell_type": "code",
   "execution_count": 7,
   "id": "13501363",
   "metadata": {},
   "outputs": [
    {
     "data": {
      "text/plain": [
       "['1', 'two', 3, 'four']"
      ]
     },
     "execution_count": 7,
     "metadata": {},
     "output_type": "execute_result"
    }
   ],
   "source": [
    "# mutable\n",
    "newList[0] = \"1\"\n",
    "newList"
   ]
  },
  {
   "cell_type": "code",
   "execution_count": 8,
   "id": "a373398d",
   "metadata": {},
   "outputs": [
    {
     "name": "stdout",
     "output_type": "stream",
     "text": [
      "['1', 'two', 3, 'four']\n",
      "['one', 'two', 3, 'four']\n"
     ]
    }
   ],
   "source": [
    "# copied list are shared memory \n",
    "copyList = newList\n",
    "print(copyList)\n",
    "newList[0] = \"one\"\n",
    "print(copyList)"
   ]
  },
  {
   "cell_type": "code",
   "execution_count": 9,
   "id": "f4e323d3",
   "metadata": {},
   "outputs": [
    {
     "name": "stdout",
     "output_type": "stream",
     "text": [
      "[1, 'two', 3, 5]\n"
     ]
    },
    {
     "data": {
      "text/plain": [
       "'four'"
      ]
     },
     "execution_count": 9,
     "metadata": {},
     "output_type": "execute_result"
    }
   ],
   "source": [
    "# delete any item \n",
    "popped = addList.pop(3)\n",
    "print(addList)\n",
    "popped"
   ]
  },
  {
   "cell_type": "code",
   "execution_count": 10,
   "id": "58f3190a",
   "metadata": {},
   "outputs": [
    {
     "data": {
      "text/plain": [
       "['a', 'b', 'c', 'd', 'e']"
      ]
     },
     "execution_count": 10,
     "metadata": {},
     "output_type": "execute_result"
    }
   ],
   "source": [
    "alpha = ['a','e','b','d','c']\n",
    "alpha.sort()\n",
    "alpha"
   ]
  },
  {
   "cell_type": "code",
   "execution_count": 11,
   "id": "cca18c9a",
   "metadata": {},
   "outputs": [
    {
     "data": {
      "text/plain": [
       "[]"
      ]
     },
     "execution_count": 11,
     "metadata": {},
     "output_type": "execute_result"
    }
   ],
   "source": [
    "alpha.clear()\n",
    "alpha"
   ]
  },
  {
   "cell_type": "markdown",
   "id": "ebf5477b",
   "metadata": {},
   "source": [
    "Looping Techniques"
   ]
  },
  {
   "cell_type": "code",
   "execution_count": 12,
   "id": "1b944f45",
   "metadata": {},
   "outputs": [
    {
     "name": "stdout",
     "output_type": "stream",
     "text": [
      "one\n",
      "2\n",
      "three\n",
      "4\n",
      "five\n"
     ]
    }
   ],
   "source": [
    "# iterating over the elements of the list\n",
    "my_list = ['one',2,\"three\",4,'five']\n",
    "for item in my_list:\n",
    "    print(item)"
   ]
  },
  {
   "cell_type": "code",
   "execution_count": 13,
   "id": "5d0607ca",
   "metadata": {},
   "outputs": [
    {
     "name": "stdout",
     "output_type": "stream",
     "text": [
      "Index 0: one\n",
      "Index 1: 2\n",
      "Index 2: three\n",
      "Index 3: 4\n",
      "Index 4: five\n"
     ]
    }
   ],
   "source": [
    "# Enumerate to get both the index and value of each element in th lis\n",
    "for index, item in enumerate(my_list):\n",
    "    print(f'Index {index}: {item}')"
   ]
  },
  {
   "cell_type": "code",
   "execution_count": 14,
   "id": "ba58cbe8",
   "metadata": {},
   "outputs": [
    {
     "name": "stdout",
     "output_type": "stream",
     "text": [
      "[1, 4, 9, 16, 25]\n"
     ]
    }
   ],
   "source": [
    "# List comprehension, create a list and perform a operation on each ele\n",
    "my_list = [1,2,3,4,5]\n",
    "squared_list = [x**2 for x in my_list]\n",
    "print(squared_list)"
   ]
  },
  {
   "cell_type": "code",
   "execution_count": 15,
   "id": "449713f2",
   "metadata": {},
   "outputs": [
    {
     "name": "stdout",
     "output_type": "stream",
     "text": [
      "1\n",
      "2\n",
      "3\n",
      "4\n",
      "5\n"
     ]
    }
   ],
   "source": [
    "# while loop \n",
    "i = 0\n",
    "while i < len(my_list):\n",
    "    print(my_list[i])\n",
    "    i+=1"
   ]
  },
  {
   "cell_type": "code",
   "execution_count": 20,
   "id": "6b642a65",
   "metadata": {},
   "outputs": [
    {
     "data": {
      "text/plain": [
       "[1, 2, 3, 4, 5, 1]"
      ]
     },
     "execution_count": 20,
     "metadata": {},
     "output_type": "execute_result"
    }
   ],
   "source": [
    "new_list = [1,2,3,4,5,1]\n",
    "new_list"
   ]
  }
 ],
 "metadata": {
  "kernelspec": {
   "display_name": "Python 3 (ipykernel)",
   "language": "python",
   "name": "python3"
  },
  "language_info": {
   "codemirror_mode": {
    "name": "ipython",
    "version": 3
   },
   "file_extension": ".py",
   "mimetype": "text/x-python",
   "name": "python",
   "nbconvert_exporter": "python",
   "pygments_lexer": "ipython3",
   "version": "3.11.5"
  }
 },
 "nbformat": 4,
 "nbformat_minor": 5
}
